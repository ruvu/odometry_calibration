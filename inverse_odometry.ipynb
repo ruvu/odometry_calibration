{
 "cells": [
  {
   "cell_type": "code",
   "execution_count": 9,
   "metadata": {},
   "outputs": [],
   "source": [
    "import numpy as np\n",
    "import matplotlib.pyplot as plt\n",
    "from tf.transformations import translation_matrix, quaternion_matrix, inverse_matrix, translation_from_matrix, rotation_from_matrix\n",
    "import rosbag\n",
    "from tf_bag import BagTfTransformer\n",
    "from collections import namedtuple\n",
    "import scipy.optimize\n",
    "from sympy import *"
   ]
  },
  {
   "cell_type": "code",
   "execution_count": 10,
   "metadata": {},
   "outputs": [
    {
     "data": {
      "text/latex": [
       "$\\displaystyle \\frac{l^{2} \\left(2 - 2 \\cos{\\left(t_{1} - t_{2} \\right)}\\right)}{a^{2}}$"
      ],
      "text/plain": [
       "l**2*(2 - 2*cos(t1 - t2))/a**2"
      ]
     },
     "execution_count": 10,
     "metadata": {},
     "output_type": "execute_result"
    }
   ],
   "source": [
    "linear, angular, heading, heading_old, L, L2, r = symbols(\"l a t1 t2 L L2 r\")\n",
    "\n",
    "r = linear / angular;\n",
    "dx = r * (sin(heading) - sin(heading_old));\n",
    "dy = -r * (cos(heading) - cos(heading_old));\n",
    "simplify(dx**2 + dy**2)"
   ]
  },
  {
   "cell_type": "code",
   "execution_count": 18,
   "metadata": {},
   "outputs": [
    {
     "data": {
      "text/latex": [
       "$\\displaystyle - \\frac{\\sqrt{2} L a \\sqrt{- \\frac{1}{\\cos{\\left(t_{1} - t_{2} \\right)} - 1}}}{2}$"
      ],
      "text/plain": [
       "-sqrt(2)*L*a*sqrt(-1/(cos(t1 - t2) - 1))/2"
      ]
     },
     "execution_count": 18,
     "metadata": {},
     "output_type": "execute_result"
    }
   ],
   "source": [
    "eq = solve(simplify(dx**2 + dy**2 - L**2), linear)\n",
    "eq[0]"
   ]
  },
  {
   "cell_type": "code",
   "execution_count": 20,
   "metadata": {},
   "outputs": [
    {
     "data": {
      "text/latex": [
       "$\\displaystyle - \\frac{\\sqrt{2} L a \\sqrt{- \\frac{1}{\\cos{\\left(t_{1} - t_{2} \\right)} - 1}}}{2}$"
      ],
      "text/plain": [
       "-sqrt(2)*L*a*sqrt(-1/(cos(t1 - t2) - 1))/2"
      ]
     },
     "execution_count": 20,
     "metadata": {},
     "output_type": "execute_result"
    }
   ],
   "source": [
    "simplify(eq[0])"
   ]
  },
  {
   "cell_type": "code",
   "execution_count": 21,
   "metadata": {},
   "outputs": [
    {
     "data": {
      "text/latex": [
       "$\\displaystyle \\frac{\\sqrt{2} L a \\sqrt{- \\frac{1}{\\cos{\\left(t_{1} - t_{2} \\right)} - 1}}}{2}$"
      ],
      "text/plain": [
       "sqrt(2)*L*a*sqrt(-1/(cos(t1 - t2) - 1))/2"
      ]
     },
     "execution_count": 21,
     "metadata": {},
     "output_type": "execute_result"
    }
   ],
   "source": [
    "simplify(eq[1])"
   ]
  },
  {
   "cell_type": "code",
   "execution_count": 15,
   "metadata": {},
   "outputs": [
    {
     "data": {
      "text/plain": [
       "[-L*a*sqrt(-1/(2*cos(t1 - t2) - 2)), L*a*sqrt(1/(2 - 2*cos(t1 - t2)))]"
      ]
     },
     "execution_count": 15,
     "metadata": {},
     "output_type": "execute_result"
    }
   ],
   "source": [
    "solve(dx**2 + dy**2 - L**2, linear)"
   ]
  },
  {
   "cell_type": "code",
   "execution_count": 13,
   "metadata": {},
   "outputs": [
    {
     "data": {
      "text/latex": [
       "$\\displaystyle \\frac{\\sqrt{2} a \\sqrt{- \\frac{L_{2}}{\\cos{\\left(t_{1} - t_{2} \\right)} - 1}}}{2}$"
      ],
      "text/plain": [
       "sqrt(2)*a*sqrt(-L2/(cos(t1 - t2) - 1))/2"
      ]
     },
     "execution_count": 13,
     "metadata": {},
     "output_type": "execute_result"
    }
   ],
   "source": [
    "simplify(solve(dx**2 + dy**2 - L2, linear)[0])"
   ]
  },
  {
   "cell_type": "code",
   "execution_count": null,
   "metadata": {},
   "outputs": [],
   "source": []
  }
 ],
 "metadata": {
  "kernelspec": {
   "display_name": "Python 3",
   "language": "python",
   "name": "python3"
  },
  "language_info": {
   "codemirror_mode": {
    "name": "ipython",
    "version": 3
   },
   "file_extension": ".py",
   "mimetype": "text/x-python",
   "name": "python",
   "nbconvert_exporter": "python",
   "pygments_lexer": "ipython3",
   "version": "3.8.5"
  }
 },
 "nbformat": 4,
 "nbformat_minor": 4
}
